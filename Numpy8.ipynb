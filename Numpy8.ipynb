{
 "cells": [
  {
   "cell_type": "code",
   "execution_count": 1,
   "metadata": {},
   "outputs": [],
   "source": [
    "import numpy as np\n"
   ]
  },
  {
   "cell_type": "code",
   "execution_count": 6,
   "metadata": {},
   "outputs": [
    {
     "name": "stdout",
     "output_type": "stream",
     "text": [
      "[0.         0.02272727 0.04545455 0.06818182 0.09090909 0.11363636\n",
      " 0.13636364 0.15909091 0.18181818 0.20454545 0.22727273 0.25\n",
      " 0.27272727 0.29545455 0.31818182 0.34090909 0.36363636 0.38636364\n",
      " 0.40909091 0.43181818 0.45454545 0.47727273 0.5        0.52272727\n",
      " 0.54545455 0.56818182 0.59090909 0.61363636 0.63636364 0.65909091\n",
      " 0.68181818 0.70454545 0.72727273 0.75       0.77272727 0.79545455\n",
      " 0.81818182 0.84090909 0.86363636 0.88636364 0.90909091 0.93181818\n",
      " 0.95454545 0.97727273 1.        ]\n",
      "[0.         0.04166667 0.08333333 0.125      0.16666667 0.20833333\n",
      " 0.25       0.29166667 0.33333333 0.375      0.41666667 0.45833333\n",
      " 0.5        0.54166667 0.58333333 0.625      0.66666667 0.70833333\n",
      " 0.75       0.79166667 0.83333333 0.875      0.91666667 0.95833333\n",
      " 1.        ]\n"
     ]
    }
   ],
   "source": [
    "import time \n",
    "import numpy as np\n",
    "A =45  #generate 45 points\n",
    "B=25\n",
    "xmin = ymin =0.0\n",
    "xmax=ymax = 1.0\n",
    "\n",
    "x= np.linspace(xmin,xmax,A,endpoint=True)\n",
    "y= np.linspace(ymin,ymax,B,endpoint = True)\n",
    "print(x)\n",
    "print(y)"
   ]
  },
  {
   "cell_type": "code",
   "execution_count": 11,
   "metadata": {},
   "outputs": [
    {
     "name": "stdout",
     "output_type": "stream",
     "text": [
      "[[0. 0. 0. ... 0. 0. 0.]\n",
      " [0. 0. 0. ... 0. 0. 0.]\n",
      " [0. 0. 0. ... 0. 0. 0.]\n",
      " ...\n",
      " [0. 0. 0. ... 0. 0. 0.]\n",
      " [0. 0. 0. ... 0. 0. 0.]\n",
      " [0. 0. 0. ... 0. 0. 0.]]\n",
      "[[ 0.00000000e+00  0.00000000e+00  0.00000000e+00 ...  0.00000000e+00\n",
      "   0.00000000e+00  0.00000000e+00]\n",
      " [ 0.00000000e+00  5.94995098e-03  1.18996913e-02 ...  1.30526192e-01\n",
      "   1.36422930e-01  1.42314838e-01]\n",
      " [ 0.00000000e+00  1.18996913e-02  2.37976975e-02 ...  2.58819045e-01\n",
      "   2.70294939e-01  2.81732557e-01]\n",
      " ...\n",
      " [ 0.00000000e+00  2.47306501e-01  4.79248987e-01 ... -7.07106781e-01\n",
      "  -5.10270033e-01 -2.81732557e-01]\n",
      " [ 0.00000000e+00  2.53067252e-01  4.89659163e-01 ... -6.08761429e-01\n",
      "  -3.88173696e-01 -1.42314838e-01]\n",
      " [ 0.00000000e+00  2.58819045e-01  5.00000000e-01 ... -5.00000000e-01\n",
      "  -2.58819045e-01 -2.44929360e-16]]\n",
      "Time elapsed :0.00821995735168457s\n"
     ]
    }
   ],
   "source": [
    "t0=time.time()\n",
    "g=np.zeros((A,B))\n",
    "print(g)\n",
    "for i in range(A):\n",
    "    for j in range(B):\n",
    "        g[i,j]=np.sin(2.0*np.pi*x[i]*y[j])\n",
    "print(g)\n",
    "t1=time.time()\n",
    "print(\"Time elapsed :{}s\".format(t1-t0))\n",
    "\n"
   ]
  },
  {
   "cell_type": "code",
   "execution_count": 12,
   "metadata": {},
   "outputs": [
    {
     "name": "stdout",
     "output_type": "stream",
     "text": [
      "[0.         0.02272727 0.04545455 0.06818182 0.09090909 0.11363636\n",
      " 0.13636364 0.15909091 0.18181818 0.20454545 0.22727273 0.25\n",
      " 0.27272727 0.29545455 0.31818182 0.34090909 0.36363636 0.38636364\n",
      " 0.40909091 0.43181818 0.45454545 0.47727273 0.5        0.52272727\n",
      " 0.54545455 0.56818182 0.59090909 0.61363636 0.63636364 0.65909091\n",
      " 0.68181818 0.70454545 0.72727273 0.75       0.77272727 0.79545455\n",
      " 0.81818182 0.84090909 0.86363636 0.88636364 0.90909091 0.93181818\n",
      " 0.95454545 0.97727273 1.        ]\n",
      "[0. 0. 0. 0. 0. 0. 0. 0. 0. 0. 0. 0. 0. 0. 0. 0. 0. 0. 0. 0. 0. 0. 0. 0.\n",
      " 0.]\n"
     ]
    }
   ],
   "source": [
    "x2d,y2d = np.meshgrid(x,y,indexing=\"ij\")\n",
    "print(x2d[:,0])\n",
    "print(x2d[0,:])"
   ]
  },
  {
   "cell_type": "code",
   "execution_count": 15,
   "metadata": {},
   "outputs": [
    {
     "name": "stdout",
     "output_type": "stream",
     "text": [
      "[0. 0. 0. 0. 0. 0. 0. 0. 0. 0. 0. 0. 0. 0. 0. 0. 0. 0. 0. 0. 0. 0. 0. 0.\n",
      " 0. 0. 0. 0. 0. 0. 0. 0. 0. 0. 0. 0. 0. 0. 0. 0. 0. 0. 0. 0. 0.]\n",
      "[0.         0.04166667 0.08333333 0.125      0.16666667 0.20833333\n",
      " 0.25       0.29166667 0.33333333 0.375      0.41666667 0.45833333\n",
      " 0.5        0.54166667 0.58333333 0.625      0.66666667 0.70833333\n",
      " 0.75       0.79166667 0.83333333 0.875      0.91666667 0.95833333\n",
      " 1.        ]\n"
     ]
    }
   ],
   "source": [
    "print(y2d[:,0])\n",
    "print(y2d[0,:])\n",
    "\n"
   ]
  },
  {
   "cell_type": "code",
   "execution_count": 16,
   "metadata": {},
   "outputs": [
    {
     "name": "stdout",
     "output_type": "stream",
     "text": [
      "[[0.         0.         0.         ... 0.         0.         0.        ]\n",
      " [0.02272727 0.02272727 0.02272727 ... 0.02272727 0.02272727 0.02272727]\n",
      " [0.04545455 0.04545455 0.04545455 ... 0.04545455 0.04545455 0.04545455]\n",
      " ...\n",
      " [0.95454545 0.95454545 0.95454545 ... 0.95454545 0.95454545 0.95454545]\n",
      " [0.97727273 0.97727273 0.97727273 ... 0.97727273 0.97727273 0.97727273]\n",
      " [1.         1.         1.         ... 1.         1.         1.        ]]\n"
     ]
    }
   ],
   "source": [
    "print(x2d)"
   ]
  },
  {
   "cell_type": "code",
   "execution_count": 19,
   "metadata": {},
   "outputs": [
    {
     "name": "stdout",
     "output_type": "stream",
     "text": [
      "0\n"
     ]
    }
   ],
   "source": [
    "jk = [1,0,2,3,4,5]\n",
    "result = int(all(jk))\n",
    "print(result)"
   ]
  },
  {
   "cell_type": "markdown",
   "metadata": {},
   "source": [
    "# Numpy Standard data types"
   ]
  },
  {
   "cell_type": "code",
   "execution_count": 36,
   "metadata": {},
   "outputs": [
    {
     "name": "stdout",
     "output_type": "stream",
     "text": [
      "int8\n",
      "[0 0 0 0 0 0 0 0 0 0]\n"
     ]
    }
   ],
   "source": [
    "a= np.zeros(10,dtype ='int8')\n",
    "print(a.dtype)\n",
    "print(a)"
   ]
  },
  {
   "cell_type": "code",
   "execution_count": 40,
   "metadata": {},
   "outputs": [
    {
     "name": "stdout",
     "output_type": "stream",
     "text": [
      "float64\n",
      "[0. 0. 0. 0. 0. 0. 0. 0. 0. 0. 0. 0. 0. 0. 0. 0. 0. 0. 0. 0.]\n"
     ]
    }
   ],
   "source": [
    "b= np.zeros(20,dtype='float64')\n",
    "print(b.dtype)\n",
    "print(b)"
   ]
  },
  {
   "cell_type": "code",
   "execution_count": 41,
   "metadata": {},
   "outputs": [
    {
     "name": "stdout",
     "output_type": "stream",
     "text": [
      "int64\n",
      "[0 0 0 0 0 0 0 0 0 0 0 0 0 0 0 0 0 0 0 0]\n"
     ]
    }
   ],
   "source": [
    "b= np.zeros(20,dtype='int64')\n",
    "print(b.dtype)\n",
    "print(b)"
   ]
  },
  {
   "cell_type": "markdown",
   "metadata": {},
   "source": [
    "# Array concantenation  and splitting"
   ]
  },
  {
   "cell_type": "code",
   "execution_count": 50,
   "metadata": {},
   "outputs": [
    {
     "name": "stdout",
     "output_type": "stream",
     "text": [
      "[array([1, 2, 3, 4]), array([7, 8, 9, 5])]\n",
      "[array([1, 2, 3, 4, 7, 8, 9, 5])]\n",
      "[[1 2]\n",
      " [3 4]\n",
      " [7 8]\n",
      " [9 5]]\n"
     ]
    }
   ],
   "source": [
    "x = np.array([1,2,3,4])\n",
    "y=np.array([7,8,9,5])\n",
    "t= np.concatenate([x,y])\n",
    "print([x,y])\n",
    "print([t])\n",
    "q = t.reshape(4,2)\n",
    "t.reshape(2,4)\n",
    "#print(q)"
   ]
  },
  {
   "cell_type": "code",
   "execution_count": 53,
   "metadata": {},
   "outputs": [
    {
     "name": "stdout",
     "output_type": "stream",
     "text": [
      "[[78 89 45]\n",
      " [12 23 25]]\n"
     ]
    }
   ],
   "source": [
    "grid  = np.array([[78,89,45,],[12,23,25]])\n",
    "print(grid)"
   ]
  },
  {
   "cell_type": "code",
   "execution_count": 55,
   "metadata": {},
   "outputs": [
    {
     "data": {
      "text/plain": [
       "array([[78, 89, 45],\n",
       "       [12, 23, 25],\n",
       "       [78, 89, 45],\n",
       "       [12, 23, 25]])"
      ]
     },
     "execution_count": 55,
     "metadata": {},
     "output_type": "execute_result"
    }
   ],
   "source": [
    "#based on rows\n",
    "np.concatenate([grid,grid]) #concatenate along the first axis"
   ]
  },
  {
   "cell_type": "code",
   "execution_count": 57,
   "metadata": {},
   "outputs": [
    {
     "data": {
      "text/plain": [
       "array([[78, 89, 45, 78, 89, 45],\n",
       "       [12, 23, 25, 12, 23, 25]])"
      ]
     },
     "execution_count": 57,
     "metadata": {},
     "output_type": "execute_result"
    }
   ],
   "source": [
    "#based on the columns\n",
    "np.concatenate([grid,grid],axis = 1) #concatenate along the second axis"
   ]
  },
  {
   "cell_type": "markdown",
   "metadata": {},
   "source": [
    "# Splitting of the arrays"
   ]
  },
  {
   "cell_type": "code",
   "execution_count": 75,
   "metadata": {},
   "outputs": [
    {
     "data": {
      "text/plain": [
       "10"
      ]
     },
     "execution_count": 75,
     "metadata": {},
     "output_type": "execute_result"
    }
   ],
   "source": [
    "l=[1,2,31,46,64,34,84,333,764,3]\n",
    "len(l)"
   ]
  },
  {
   "cell_type": "code",
   "execution_count": 77,
   "metadata": {},
   "outputs": [
    {
     "name": "stdout",
     "output_type": "stream",
     "text": [
      "[1 2] [31 46] [64 34] [ 84 333 764   3]\n"
     ]
    }
   ],
   "source": [
    "c1,c2,c3,c4 = np.split(l,[2,4,6])\n",
    "print(c1,c2,c3,c4)"
   ]
  },
  {
   "cell_type": "code",
   "execution_count": 79,
   "metadata": {},
   "outputs": [
    {
     "name": "stdout",
     "output_type": "stream",
     "text": [
      "[[ 0  1  2  3  4  5  6  7  8]\n",
      " [ 9 10 11 12 13 14 15 16 17]\n",
      " [18 19 20 21 22 23 24 25 26]]\n"
     ]
    }
   ],
   "source": [
    "asd= np.arange(27).reshape(3,9)\n",
    "print(asd)"
   ]
  },
  {
   "cell_type": "code",
   "execution_count": 81,
   "metadata": {},
   "outputs": [
    {
     "name": "stdout",
     "output_type": "stream",
     "text": [
      "[[ 0  1  2  3  4]\n",
      " [ 9 10 11 12 13]\n",
      " [18 19 20 21 22]]\n",
      "[[ 5  6  7  8]\n",
      " [14 15 16 17]\n",
      " [23 24 25 26]]\n"
     ]
    }
   ],
   "source": [
    "left,right = np.hsplit(asd,[5]) #spliited based on the index postion\n",
    "print(left)\n",
    "print(right)"
   ]
  },
  {
   "cell_type": "code",
   "execution_count": 82,
   "metadata": {},
   "outputs": [
    {
     "name": "stdout",
     "output_type": "stream",
     "text": [
      "[[ 0  1  2  3  4  5  6  7  8]\n",
      " [ 9 10 11 12 13 14 15 16 17]\n",
      " [18 19 20 21 22 23 24 25 26]]\n",
      "[]\n"
     ]
    }
   ],
   "source": [
    "left,right = np.vsplit(asd,[5]) #spliited based on the index postion\n",
    "print(left)\n",
    "print(right)"
   ]
  },
  {
   "cell_type": "markdown",
   "metadata": {},
   "source": [
    "# Aggregates"
   ]
  },
  {
   "cell_type": "code",
   "execution_count": 91,
   "metadata": {},
   "outputs": [
    {
     "name": "stdout",
     "output_type": "stream",
     "text": [
      "[ 1  2  3  4  5  6  7  8  9 10 11 12 13 14]\n"
     ]
    }
   ],
   "source": [
    "w = np.arange(1,15)\n",
    "print(w)"
   ]
  },
  {
   "cell_type": "code",
   "execution_count": 92,
   "metadata": {},
   "outputs": [
    {
     "data": {
      "text/plain": [
       "105"
      ]
     },
     "execution_count": 92,
     "metadata": {},
     "output_type": "execute_result"
    }
   ],
   "source": [
    "np.add.reduce(w)"
   ]
  },
  {
   "cell_type": "code",
   "execution_count": 93,
   "metadata": {},
   "outputs": [
    {
     "data": {
      "text/plain": [
       "87178291200"
      ]
     },
     "execution_count": 93,
     "metadata": {},
     "output_type": "execute_result"
    }
   ],
   "source": [
    "np.multiply.reduce(w)"
   ]
  },
  {
   "cell_type": "code",
   "execution_count": 96,
   "metadata": {},
   "outputs": [
    {
     "name": "stdout",
     "output_type": "stream",
     "text": [
      "[ 1  2  3  4  5  6  7  8  9 10 11 12 13 14]\n"
     ]
    },
    {
     "data": {
      "text/plain": [
       "array([  1,   3,   6,  10,  15,  21,  28,  36,  45,  55,  66,  78,  91,\n",
       "       105])"
      ]
     },
     "execution_count": 96,
     "metadata": {},
     "output_type": "execute_result"
    }
   ],
   "source": [
    "print(w)\n",
    "np.add.accumulate(w)"
   ]
  },
  {
   "cell_type": "code",
   "execution_count": 101,
   "metadata": {},
   "outputs": [
    {
     "name": "stdout",
     "output_type": "stream",
     "text": [
      "[ 1  2  3  4  5  6  7  8  9 10 11 12 13 14]\n"
     ]
    },
    {
     "data": {
      "text/plain": [
       "array([          1,           2,           6,          24,         120,\n",
       "               720,        5040,       40320,      362880,     3628800,\n",
       "          39916800,   479001600,  6227020800, 87178291200])"
      ]
     },
     "execution_count": 101,
     "metadata": {},
     "output_type": "execute_result"
    }
   ],
   "source": [
    "print(w)\n",
    "np.multiply.accumulate(w)"
   ]
  }
 ],
 "metadata": {
  "kernelspec": {
   "display_name": "Python 3.8.3 64-bit ('base': conda)",
   "language": "python",
   "name": "python38364bitbasecondaef7431e93f7d4666a39794f4dcd39fc8"
  },
  "language_info": {
   "codemirror_mode": {
    "name": "ipython",
    "version": 3
   },
   "file_extension": ".py",
   "mimetype": "text/x-python",
   "name": "python",
   "nbconvert_exporter": "python",
   "pygments_lexer": "ipython3",
   "version": "3.8.3"
  }
 },
 "nbformat": 4,
 "nbformat_minor": 4
}
