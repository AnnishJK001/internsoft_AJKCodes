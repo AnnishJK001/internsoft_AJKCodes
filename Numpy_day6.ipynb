{
 "cells": [
  {
   "cell_type": "markdown",
   "metadata": {},
   "source": [
    "# Numpy"
   ]
  },
  {
   "cell_type": "code",
   "execution_count": 3,
   "metadata": {},
   "outputs": [],
   "source": [
    "import numpy as np"
   ]
  },
  {
   "cell_type": "markdown",
   "metadata": {},
   "source": [
    "# Array creation and Properties"
   ]
  },
  {
   "cell_type": "code",
   "execution_count": 8,
   "metadata": {},
   "outputs": [],
   "source": [
    "a= np.arange(10)  #prfix range() with \"a\" as arange\n",
    "b =np.arange(20)"
   ]
  },
  {
   "cell_type": "code",
   "execution_count": 9,
   "metadata": {},
   "outputs": [
    {
     "name": "stdout",
     "output_type": "stream",
     "text": [
      "[0 1 2 3 4 5 6 7 8 9]\n",
      "[ 0  1  2  3  4  5  6  7  8  9 10 11 12 13 14 15 16 17 18 19]\n"
     ]
    }
   ],
   "source": [
    "print(a)\n",
    "print(b)"
   ]
  },
  {
   "cell_type": "code",
   "execution_count": 14,
   "metadata": {},
   "outputs": [
    {
     "name": "stdout",
     "output_type": "stream",
     "text": [
      "[[ 0  1  2  3]\n",
      " [ 4  5  6  7]\n",
      " [ 8  9 10 11]]\n",
      "<class 'numpy.ndarray'>\n"
     ]
    }
   ],
   "source": [
    "a= np.arange(12).reshape(3,4) #reshape(rows,columns)\n",
    "print(a)\n",
    "print(type(a))"
   ]
  },
  {
   "cell_type": "markdown",
   "metadata": {},
   "source": [
    "# Numpy array has many meta data associated with its describing its shape."
   ]
  },
  {
   "cell_type": "code",
   "execution_count": 17,
   "metadata": {},
   "outputs": [
    {
     "name": "stdout",
     "output_type": "stream",
     "text": [
      "2\n",
      "(3, 4)\n",
      "12\n",
      "int64\n",
      "8\n"
     ]
    }
   ],
   "source": [
    "print(a.ndim)\n",
    "print(a.shape)\n",
    "print(a.size)\n",
    "print(a.dtype)\n",
    "print(a.itemsize) #each array element size 8bytes\n"
   ]
  },
  {
   "cell_type": "code",
   "execution_count": 20,
   "metadata": {},
   "outputs": [
    {
     "name": "stdout",
     "output_type": "stream",
     "text": [
      "[1. 4. 8. 7. 5.]\n",
      "float64\n",
      "<class 'numpy.ndarray'>\n"
     ]
    }
   ],
   "source": [
    "d = np.array([1.0,4.0,8.0,7.0,5.0])\n",
    "print(d)\n",
    "print(d.dtype)\n",
    "print(type(d))"
   ]
  },
  {
   "cell_type": "code",
   "execution_count": 22,
   "metadata": {},
   "outputs": [
    {
     "data": {
      "text/plain": [
       "array([[1., 0., 0., 0., 0., 0., 0., 0., 0.],\n",
       "       [0., 1., 0., 0., 0., 0., 0., 0., 0.],\n",
       "       [0., 0., 1., 0., 0., 0., 0., 0., 0.],\n",
       "       [0., 0., 0., 1., 0., 0., 0., 0., 0.],\n",
       "       [0., 0., 0., 0., 1., 0., 0., 0., 0.],\n",
       "       [0., 0., 0., 0., 0., 1., 0., 0., 0.],\n",
       "       [0., 0., 0., 0., 0., 0., 1., 0., 0.],\n",
       "       [0., 0., 0., 0., 0., 0., 0., 1., 0.],\n",
       "       [0., 0., 0., 0., 0., 0., 0., 0., 1.]])"
      ]
     },
     "execution_count": 22,
     "metadata": {},
     "output_type": "execute_result"
    }
   ],
   "source": [
    "c=np.eye(9)\n",
    "dtype = np.float64\n",
    "c"
   ]
  },
  {
   "cell_type": "code",
   "execution_count": 6,
   "metadata": {
    "tags": []
   },
   "outputs": [
    {
     "output_type": "stream",
     "name": "stdout",
     "text": "[-1.         -0.78571429 -0.57142857 -0.35714286 -0.14285714  0.07142857\n  0.28571429  0.5         0.71428571  0.92857143  1.14285714  1.35714286\n  1.57142857  1.78571429  2.        ]\n"
    }
   ],
   "source": [
    "d=np.linspace(-1,2,15,endpoint=True) #linspace(start ,end , no :values to be present ,endspace-\"tells if you want the last point give it as two\")\n",
    "print(d)\n"
   ]
  },
  {
   "cell_type": "code",
   "execution_count": 7,
   "metadata": {
    "tags": []
   },
   "outputs": [
    {
     "output_type": "stream",
     "name": "stdout",
     "text": "[  0.1          0.16378937   0.26826958   0.43939706   0.71968567\n   1.17876863   1.93069773   3.16227766   5.17947468   8.48342898\n  13.89495494  22.75845926  37.2759372   61.05402297 100.        ]\n"
    }
   ],
   "source": [
    "f = np.logspace(-1,2,15,endpoint=True,base =10)\n",
    "print(f)# logspace  values of the above array  "
   ]
  },
  {
   "cell_type": "code",
   "execution_count": 8,
   "metadata": {
    "tags": []
   },
   "outputs": [
    {
     "output_type": "stream",
     "name": "stdout",
     "text": "Help on function logspace in module numpy:\n\nlogspace(start, stop, num=50, endpoint=True, base=10.0, dtype=None, axis=0)\n    Return numbers spaced evenly on a log scale.\n    \n    In linear space, the sequence starts at ``base ** start``\n    (`base` to the power of `start`) and ends with ``base ** stop``\n    (see `endpoint` below).\n    \n    .. versionchanged:: 1.16.0\n        Non-scalar `start` and `stop` are now supported.\n    \n    Parameters\n    ----------\n    start : array_like\n        ``base ** start`` is the starting value of the sequence.\n    stop : array_like\n        ``base ** stop`` is the final value of the sequence, unless `endpoint`\n        is False.  In that case, ``num + 1`` values are spaced over the\n        interval in log-space, of which all but the last (a sequence of\n        length `num`) are returned.\n    num : integer, optional\n        Number of samples to generate.  Default is 50.\n    endpoint : boolean, optional\n        If true, `stop` is the last sample. Otherwise, it is not included.\n        Default is True.\n    base : float, optional\n        The base of the log space. The step size between the elements in\n        ``ln(samples) / ln(base)`` (or ``log_base(samples)``) is uniform.\n        Default is 10.0.\n    dtype : dtype\n        The type of the output array.  If `dtype` is not given, infer the data\n        type from the other input arguments.\n    axis : int, optional\n        The axis in the result to store the samples.  Relevant only if start\n        or stop are array-like.  By default (0), the samples will be along a\n        new axis inserted at the beginning. Use -1 to get an axis at the end.\n    \n        .. versionadded:: 1.16.0\n    \n    \n    Returns\n    -------\n    samples : ndarray\n        `num` samples, equally spaced on a log scale.\n    \n    See Also\n    --------\n    arange : Similar to linspace, with the step size specified instead of the\n             number of samples. Note that, when used with a float endpoint, the\n             endpoint may or may not be included.\n    linspace : Similar to logspace, but with the samples uniformly distributed\n               in linear space, instead of log space.\n    geomspace : Similar to logspace, but with endpoints specified directly.\n    \n    Notes\n    -----\n    Logspace is equivalent to the code\n    \n    >>> y = np.linspace(start, stop, num=num, endpoint=endpoint)\n    ... # doctest: +SKIP\n    >>> power(base, y).astype(dtype)\n    ... # doctest: +SKIP\n    \n    Examples\n    --------\n    >>> np.logspace(2.0, 3.0, num=4)\n    array([ 100.        ,  215.443469  ,  464.15888336, 1000.        ])\n    >>> np.logspace(2.0, 3.0, num=4, endpoint=False)\n    array([100.        ,  177.827941  ,  316.22776602,  562.34132519])\n    >>> np.logspace(2.0, 3.0, num=4, base=2.0)\n    array([4.        ,  5.0396842 ,  6.34960421,  8.        ])\n    \n    Graphical illustration:\n    \n    >>> import matplotlib.pyplot as plt\n    >>> N = 10\n    >>> x1 = np.logspace(0.1, 1, N, endpoint=True)\n    >>> x2 = np.logspace(0.1, 1, N, endpoint=False)\n    >>> y = np.zeros(N)\n    >>> plt.plot(x1, y, 'o')\n    [<matplotlib.lines.Line2D object at 0x...>]\n    >>> plt.plot(x2, y + 0.5, 'o')\n    [<matplotlib.lines.Line2D object at 0x...>]\n    >>> plt.ylim([-0.5, 1])\n    (-0.5, 1)\n    >>> plt.show()\n\n"
    }
   ],
   "source": [
    "help(np.logspace)"
   ]
  },
  {
   "cell_type": "code",
   "execution_count": 9,
   "metadata": {
    "tags": []
   },
   "outputs": [
    {
     "output_type": "stream",
     "name": "stdout",
     "text": "Help on function linspace in module numpy:\n\nlinspace(start, stop, num=50, endpoint=True, retstep=False, dtype=None, axis=0)\n    Return evenly spaced numbers over a specified interval.\n    \n    Returns `num` evenly spaced samples, calculated over the\n    interval [`start`, `stop`].\n    \n    The endpoint of the interval can optionally be excluded.\n    \n    .. versionchanged:: 1.16.0\n        Non-scalar `start` and `stop` are now supported.\n    \n    Parameters\n    ----------\n    start : array_like\n        The starting value of the sequence.\n    stop : array_like\n        The end value of the sequence, unless `endpoint` is set to False.\n        In that case, the sequence consists of all but the last of ``num + 1``\n        evenly spaced samples, so that `stop` is excluded.  Note that the step\n        size changes when `endpoint` is False.\n    num : int, optional\n        Number of samples to generate. Default is 50. Must be non-negative.\n    endpoint : bool, optional\n        If True, `stop` is the last sample. Otherwise, it is not included.\n        Default is True.\n    retstep : bool, optional\n        If True, return (`samples`, `step`), where `step` is the spacing\n        between samples.\n    dtype : dtype, optional\n        The type of the output array.  If `dtype` is not given, infer the data\n        type from the other input arguments.\n    \n        .. versionadded:: 1.9.0\n    \n    axis : int, optional\n        The axis in the result to store the samples.  Relevant only if start\n        or stop are array-like.  By default (0), the samples will be along a\n        new axis inserted at the beginning. Use -1 to get an axis at the end.\n    \n        .. versionadded:: 1.16.0\n    \n    Returns\n    -------\n    samples : ndarray\n        There are `num` equally spaced samples in the closed interval\n        ``[start, stop]`` or the half-open interval ``[start, stop)``\n        (depending on whether `endpoint` is True or False).\n    step : float, optional\n        Only returned if `retstep` is True\n    \n        Size of spacing between samples.\n    \n    \n    See Also\n    --------\n    arange : Similar to `linspace`, but uses a step size (instead of the\n             number of samples).\n    geomspace : Similar to `linspace`, but with numbers spaced evenly on a log\n                scale (a geometric progression).\n    logspace : Similar to `geomspace`, but with the end points specified as\n               logarithms.\n    \n    Examples\n    --------\n    >>> np.linspace(2.0, 3.0, num=5)\n    array([2.  , 2.25, 2.5 , 2.75, 3.  ])\n    >>> np.linspace(2.0, 3.0, num=5, endpoint=False)\n    array([2. ,  2.2,  2.4,  2.6,  2.8])\n    >>> np.linspace(2.0, 3.0, num=5, retstep=True)\n    (array([2.  ,  2.25,  2.5 ,  2.75,  3.  ]), 0.25)\n    \n    Graphical illustration:\n    \n    >>> import matplotlib.pyplot as plt\n    >>> N = 8\n    >>> y = np.zeros(N)\n    >>> x1 = np.linspace(0, 10, N, endpoint=True)\n    >>> x2 = np.linspace(0, 10, N, endpoint=False)\n    >>> plt.plot(x1, y, 'o')\n    [<matplotlib.lines.Line2D object at 0x...>]\n    >>> plt.plot(x2, y + 0.5, 'o')\n    [<matplotlib.lines.Line2D object at 0x...>]\n    >>> plt.ylim([-0.5, 1])\n    (-0.5, 1)\n    >>> plt.show()\n\n"
    }
   ],
   "source": [
    "help(np.linspace)"
   ]
  },
  {
   "cell_type": "code",
   "execution_count": 17,
   "metadata": {
    "tags": []
   },
   "outputs": [
    {
     "output_type": "stream",
     "name": "stdout",
     "text": "[[ True False False False False]\n [False  True False False False]\n [False False  True False False]\n [False False False  True False]]\n"
    }
   ],
   "source": [
    "g = np.fromfunction(lambda i,j:i==j,(4,5),dtype=int)\n",
    "print(g)"
   ]
  },
  {
   "cell_type": "markdown",
   "metadata": {},
   "source": [
    "# Array Operations"
   ]
  },
  {
   "cell_type": "code",
   "execution_count": 19,
   "metadata": {
    "tags": []
   },
   "outputs": [
    {
     "output_type": "stream",
     "name": "stdout",
     "text": "[[ 0  1  2  3  4  5]\n [ 6  7  8  9 10 11]\n [12 13 14 15 16 17]]\n"
    }
   ],
   "source": [
    "v = np.arange(18).reshape(3,6)\n",
    "print(v)"
   ]
  },
  {
   "cell_type": "code",
   "execution_count": 20,
   "metadata": {
    "tags": []
   },
   "outputs": [
    {
     "output_type": "stream",
     "name": "stdout",
     "text": "[ 0  2  4  6  8 10]\n[12 14 16 18 20 22]\n[24 26 28 30 32 34]\n"
    }
   ],
   "source": [
    "for i in v:\n",
    "    print(2*i) "
   ]
  },
  {
   "cell_type": "code",
   "execution_count": 23,
   "metadata": {},
   "outputs": [
    {
     "output_type": "execute_result",
     "data": {
      "text/plain": "array([[ 0,  3,  6,  9, 12, 15],\n       [18, 21, 24, 27, 30, 33],\n       [36, 39, 42, 45, 48, 51]])"
     },
     "metadata": {},
     "execution_count": 23
    }
   ],
   "source": [
    "v*3   #every element is multiplied by  2"
   ]
  },
  {
   "cell_type": "code",
   "execution_count": 22,
   "metadata": {},
   "outputs": [
    {
     "output_type": "execute_result",
     "data": {
      "text/plain": "array([[ 0,  2,  4,  6,  8, 10],\n       [12, 14, 16, 18, 20, 22],\n       [24, 26, 28, 30, 32, 34]])"
     },
     "metadata": {},
     "execution_count": 22
    }
   ],
   "source": [
    "v+v  "
   ]
  },
  {
   "cell_type": "code",
   "execution_count": 24,
   "metadata": {},
   "outputs": [
    {
     "output_type": "execute_result",
     "data": {
      "text/plain": "array([[  0,   1,   4,   9,  16,  25],\n       [ 36,  49,  64,  81, 100, 121],\n       [144, 169, 196, 225, 256, 289]])"
     },
     "metadata": {},
     "execution_count": 24
    }
   ],
   "source": [
    "v*v"
   ]
  },
  {
   "cell_type": "code",
   "execution_count": 25,
   "metadata": {
    "tags": []
   },
   "outputs": [
    {
     "output_type": "stream",
     "name": "stdout",
     "text": "[[ 0  1  2  3  4  5]\n [ 6  7  8  9 10 11]\n [12 13 14 15 16 17]]\n[[ 0  6 12]\n [ 1  7 13]\n [ 2  8 14]\n [ 3  9 15]\n [ 4 10 16]\n [ 5 11 17]]\n"
    }
   ],
   "source": [
    "print(v)\n",
    "b = v.transpose()\n",
    "print(b)"
   ]
  },
  {
   "cell_type": "code",
   "execution_count": 26,
   "metadata": {},
   "outputs": [
    {
     "output_type": "execute_result",
     "data": {
      "text/plain": "array([[  55,  145,  235],\n       [ 145,  451,  757],\n       [ 235,  757, 1279]])"
     },
     "metadata": {},
     "execution_count": 26
    }
   ],
   "source": [
    "v@b  #transpose and then multiply"
   ]
  },
  {
   "cell_type": "code",
   "execution_count": 28,
   "metadata": {
    "tags": []
   },
   "outputs": [
    {
     "output_type": "stream",
     "name": "stdout",
     "text": "[[ 0  1  2  3  4  5]\n [ 6  7  8  9 10 11]\n [12 13 14 15 16 17]]\n"
    },
    {
     "output_type": "execute_result",
     "data": {
      "text/plain": "array([15, 51, 87])"
     },
     "metadata": {},
     "execution_count": 28
    }
   ],
   "source": [
    "print(v)\n",
    "v.sum(axis=1)    #sum along axis or the entire array                # if axis is 1 then suming along the column"
   ]
  },
  {
   "cell_type": "code",
   "execution_count": 30,
   "metadata": {
    "tags": []
   },
   "outputs": [
    {
     "output_type": "stream",
     "name": "stdout",
     "text": "[[ 0  1  2  3  4  5]\n [ 6  7  8  9 10 11]\n [12 13 14 15 16 17]]\n"
    },
    {
     "output_type": "execute_result",
     "data": {
      "text/plain": "array([18, 21, 24, 27, 30, 33])"
     },
     "metadata": {},
     "execution_count": 30
    }
   ],
   "source": [
    "print(v)\n",
    "v.sum(axis=0)    #sum along axis or the entire \n",
    "              # if axis is 0 then suming along the row"
   ]
  },
  {
   "cell_type": "code",
   "execution_count": 31,
   "metadata": {},
   "outputs": [
    {
     "output_type": "execute_result",
     "data": {
      "text/plain": "153"
     },
     "metadata": {},
     "execution_count": 31
    }
   ],
   "source": [
    "v.sum()  #sum of all the elements in the matrix"
   ]
  },
  {
   "cell_type": "code",
   "execution_count": 33,
   "metadata": {
    "tags": []
   },
   "outputs": [
    {
     "output_type": "stream",
     "name": "stdout",
     "text": "17 0\n"
    }
   ],
   "source": [
    "print(v.max(),v.min())   #gives max and the min value"
   ]
  },
  {
   "cell_type": "markdown",
   "metadata": {},
   "source": [
    "# Universal Function"
   ]
  },
  {
   "cell_type": "code",
   "execution_count": 34,
   "metadata": {
    "tags": []
   },
   "outputs": [
    {
     "output_type": "stream",
     "name": "stdout",
     "text": "3.141592653589793\n"
    }
   ],
   "source": [
    "p =np.pi\n",
    "print(p)"
   ]
  },
  {
   "cell_type": "code",
   "execution_count": 36,
   "metadata": {
    "tags": []
   },
   "outputs": [
    {
     "output_type": "stream",
     "name": "stdout",
     "text": "[[0.         0.26179939 0.52359878 0.78539816 1.04719755 1.30899694]\n [1.57079633 1.83259571 2.0943951  2.35619449 2.61799388 2.87979327]\n [3.14159265 3.40339204 3.66519143 3.92699082 4.1887902  4.45058959]]\n"
    }
   ],
   "source": [
    "a= v*np.pi/12.0\n",
    "print(a)"
   ]
  },
  {
   "cell_type": "code",
   "execution_count": 38,
   "metadata": {
    "tags": []
   },
   "outputs": [
    {
     "output_type": "stream",
     "name": "stdout",
     "text": "[[ 0.00000000e+00  1.55740772e+00 -2.18503986e+00 -1.42546543e-01\n   1.15782128e+00 -3.38051501e+00]\n [-2.91006191e-01  8.71447983e-01 -6.79971146e+00 -4.52315659e-01\n   6.48360827e-01 -2.25950846e+02]\n [-6.35859929e-01  4.63021133e-01  7.24460662e+00 -8.55993401e-01\n   3.00632242e-01  3.49391565e+00]]\n"
    }
   ],
   "source": [
    "l = np.tan(v)\n",
    "print(l)"
   ]
  },
  {
   "cell_type": "markdown",
   "metadata": {},
   "source": [
    "# Array Slicing"
   ]
  },
  {
   "cell_type": "markdown",
   "metadata": {},
   "source": [
    "#  x [START :END :STEP]"
   ]
  },
  {
   "cell_type": "code",
   "execution_count": 57,
   "metadata": {
    "tags": []
   },
   "outputs": [
    {
     "output_type": "stream",
     "name": "stdout",
     "text": "[ 0  1  2  3  4  5  6  7  8  9 10 11 12 13 14 15 16 17 18 19 20 21 22 23\n 24]\n<class 'numpy.ndarray'>\n"
    }
   ],
   "source": [
    "a  = np.arange(25)\n",
    "print(a)\n",
    "print(type(a))"
   ]
  },
  {
   "cell_type": "code",
   "execution_count": 58,
   "metadata": {
    "tags": []
   },
   "outputs": [
    {
     "output_type": "stream",
     "name": "stdout",
     "text": "[ 0  2  4  6  8 10 12 14 16 18 20 22]\n"
    }
   ],
   "source": [
    "even = a[0:24:2]\n",
    "print(even)"
   ]
  },
  {
   "cell_type": "code",
   "execution_count": 59,
   "metadata": {
    "tags": []
   },
   "outputs": [
    {
     "output_type": "stream",
     "name": "stdout",
     "text": "[24 23 22 21 20 19 18 17 16 15 14 13 12 11 10  9  8  7  6  5  4  3  2  1\n  0]\n"
    }
   ],
   "source": [
    "reverse = a[::-1]\n",
    "print(reverse)"
   ]
  },
  {
   "cell_type": "code",
   "execution_count": 64,
   "metadata": {
    "tags": []
   },
   "outputs": [
    {
     "output_type": "stream",
     "name": "stdout",
     "text": "[ 0  7 14 21]\n"
    }
   ],
   "source": [
    "reverse = a[::7]\n",
    "print(reverse)"
   ]
  },
  {
   "cell_type": "code",
   "execution_count": 65,
   "metadata": {},
   "outputs": [
    {
     "output_type": "execute_result",
     "data": {
      "text/plain": "array([ 0,  1,  2,  3,  4,  5,  6,  7,  8,  9, 10, 11, 12, 13, 14, 15, 16,\n       17, 18, 19, 20, 21, 22, 23, 24])"
     },
     "metadata": {},
     "execution_count": 65
    }
   ],
   "source": [
    "a[:]"
   ]
  },
  {
   "cell_type": "markdown",
   "metadata": {},
   "source": [
    "# Multidimensional array"
   ]
  },
  {
   "cell_type": "code",
   "execution_count": 4,
   "metadata": {},
   "outputs": [
    {
     "output_type": "execute_result",
     "data": {
      "text/plain": "array([[ 0,  1,  2,  3,  4],\n       [ 5,  6,  7,  8,  9],\n       [10, 11, 12, 13, 14],\n       [15, 16, 17, 18, 19],\n       [20, 21, 22, 23, 24]])"
     },
     "metadata": {},
     "execution_count": 4
    }
   ],
   "source": [
    "a= np.arange(25).reshape(5,5)\n",
    "a"
   ]
  },
  {
   "cell_type": "code",
   "execution_count": 68,
   "metadata": {},
   "outputs": [
    {
     "output_type": "execute_result",
     "data": {
      "text/plain": "22"
     },
     "metadata": {},
     "execution_count": 68
    }
   ],
   "source": [
    "a[4,2]"
   ]
  },
  {
   "cell_type": "code",
   "execution_count": 70,
   "metadata": {},
   "outputs": [
    {
     "output_type": "execute_result",
     "data": {
      "text/plain": "array([[ 0,  1,  2,  3],\n       [ 5,  6,  7,  8],\n       [10, 11, 12, 13]])"
     },
     "metadata": {},
     "execution_count": 70
    }
   ],
   "source": [
    "a[0:3,0:4]         #rows , column"
   ]
  },
  {
   "cell_type": "code",
   "execution_count": 5,
   "metadata": {
    "tags": []
   },
   "outputs": [
    {
     "output_type": "stream",
     "name": "stdout",
     "text": "[[ 0  1  2  3  4]\n [ 5  6  7  8  9]\n [10 11 12 13 14]\n [15 16 17 18 19]\n [20 21 22 23 24]]\n"
    }
   ],
   "source": [
    "print(a)"
   ]
  },
  {
   "cell_type": "code",
   "execution_count": 6,
   "metadata": {},
   "outputs": [
    {
     "output_type": "execute_result",
     "data": {
      "text/plain": "array([ 2,  7, 12, 17, 22])"
     },
     "metadata": {},
     "execution_count": 6
    }
   ],
   "source": [
    "a[:,2]      # all the elements in the second column\n",
    "        #all rows and one column"
   ]
  },
  {
   "cell_type": "code",
   "execution_count": 7,
   "metadata": {
    "tags": []
   },
   "outputs": [
    {
     "output_type": "stream",
     "name": "stdout",
     "text": "[ 0  1  2  3  4  5  6  7  8  9 10 11 12 13 14 15 16 17 18 19 20 21 22 23\n 24]\n"
    }
   ],
   "source": [
    "f =a.flatten()  #a multidimensional array is converted into a single dimensional array\n",
    "print(f)"
   ]
  },
  {
   "cell_type": "code",
   "execution_count": 9,
   "metadata": {
    "tags": []
   },
   "outputs": [
    {
     "output_type": "stream",
     "name": "stdout",
     "text": "0\n1\n2\n3\n4\n5\n6\n7\n8\n9\n10\n11\n12\n13\n14\n15\n16\n17\n18\n19\n20\n21\n22\n23\n24\n[[ 0  1  2  3  4]\n [ 5  6  7  8  9]\n [10 11 12 13 14]]\n"
    }
   ],
   "source": [
    "for hello in f:\n",
    "    print(hello)\n",
    "b = np.arange(15).reshape(3,5)\n",
    "print(b)"
   ]
  },
  {
   "cell_type": "markdown",
   "metadata": {},
   "source": [
    "# Copying Arrays"
   ]
  },
  {
   "cell_type": "code",
   "execution_count": 10,
   "metadata": {
    "tags": []
   },
   "outputs": [
    {
     "output_type": "stream",
     "name": "stdout",
     "text": "[ 0  1  2  3  4  5  6  7  8  9 10 11 12 13 14 15 16 17 18 19 20 21 22 23\n 24]\n"
    }
   ],
   "source": [
    "a = np.arange(25)\n",
    "print(a)"
   ]
  },
  {
   "cell_type": "code",
   "execution_count": 13,
   "metadata": {
    "tags": []
   },
   "outputs": [
    {
     "output_type": "stream",
     "name": "stdout",
     "text": "[ 0  1  2  3  4  5  6  7  8  9 10 11 12 13 14 15 16 17 18 19 20 21 22 23\n 24]\n"
    },
    {
     "output_type": "execute_result",
     "data": {
      "text/plain": "True"
     },
     "metadata": {},
     "execution_count": 13
    }
   ],
   "source": [
    "b=a\n",
    "print(b)\n",
    "b is a"
   ]
  },
  {
   "cell_type": "code",
   "execution_count": 14,
   "metadata": {
    "tags": []
   },
   "outputs": [
    {
     "output_type": "stream",
     "name": "stdout",
     "text": "[[ 0  1  2  3  4]\n [ 5  6  7  8  9]\n [10 11 12 13 14]\n [15 16 17 18 19]\n [20 21 22 23 24]]\n"
    }
   ],
   "source": [
    "b.shape=(5,5)\n",
    "print(b)"
   ]
  },
  {
   "cell_type": "code",
   "execution_count": 15,
   "metadata": {},
   "outputs": [
    {
     "output_type": "execute_result",
     "data": {
      "text/plain": "(5, 5)"
     },
     "metadata": {},
     "execution_count": 15
    }
   ],
   "source": [
    "a.shape    # a shape is also changed"
   ]
  },
  {
   "cell_type": "code",
   "execution_count": 16,
   "metadata": {
    "tags": []
   },
   "outputs": [
    {
     "output_type": "stream",
     "name": "stdout",
     "text": "[[ 0  1  2  3  4]\n [ 5  6  7  8  9]\n [10 11 12 13 14]\n [15 16 17 18 19]\n [20 21 22 23 24]]\n"
    }
   ],
   "source": [
    "print(a)"
   ]
  },
  {
   "cell_type": "code",
   "execution_count": 21,
   "metadata": {
    "tags": []
   },
   "outputs": [
    {
     "output_type": "stream",
     "name": "stdout",
     "text": "[[0 1 2 3 4]\n [5 6 7 8 9]]\nshallow [0 1 2 3 4 5 6 7 8 9]\n"
    },
    {
     "output_type": "execute_result",
     "data": {
      "text/plain": "False"
     },
     "metadata": {},
     "execution_count": 21
    }
   ],
   "source": [
    "a= np.arange(10)\n",
    "d =a[:]  #shallow copy\n",
    "a.shape=(2,5)\n",
    "print(a)\n",
    "print(\"shallow\",d)\n",
    "a is d\n",
    "# shallow creates  different files\n",
    " "
   ]
  },
  {
   "cell_type": "code",
   "execution_count": 25,
   "metadata": {
    "tags": []
   },
   "outputs": [
    {
     "output_type": "stream",
     "name": "stdout",
     "text": "[[ 0  1 63  3  4]\n [ 5  6  7  8  9]]\n[ 0  1 63  3  4  5  6  7  8  9]\n"
    }
   ],
   "source": [
    "d[2] = 63\n",
    "print(a)\n",
    "print(d)\n"
   ]
  },
  {
   "cell_type": "code",
   "execution_count": 26,
   "metadata": {
    "tags": []
   },
   "outputs": [
    {
     "output_type": "stream",
     "name": "stdout",
     "text": "[63  3  4]\n"
    }
   ],
   "source": [
    "t = d[2:5]\n",
    "print(t)"
   ]
  },
  {
   "cell_type": "code",
   "execution_count": 27,
   "metadata": {},
   "outputs": [],
   "source": [
    "t[:] = 0"
   ]
  },
  {
   "cell_type": "code",
   "execution_count": 28,
   "metadata": {
    "tags": []
   },
   "outputs": [
    {
     "output_type": "stream",
     "name": "stdout",
     "text": "[[0 1 0 0 0]\n [5 6 7 8 9]]\n[0 1 0 0 0 5 6 7 8 9]\n[0 0 0]\n"
    }
   ],
   "source": [
    "print(a)\n",
    "print(d)\n",
    "print(t)"
   ]
  },
  {
   "cell_type": "code",
   "execution_count": 29,
   "metadata": {
    "tags": []
   },
   "outputs": [
    {
     "output_type": "stream",
     "name": "stdout",
     "text": "False\nTrue\nFalse\nTrue\n"
    }
   ],
   "source": [
    "print(d is a)\n",
    "print(d.base is a)  #data present at a is it same \n",
    "print(d.flags.owndata)\n",
    "print(a.flags.owndata)"
   ]
  },
  {
   "cell_type": "code",
   "execution_count": 31,
   "metadata": {
    "tags": []
   },
   "outputs": [
    {
     "output_type": "stream",
     "name": "stdout",
     "text": "[[0 1 0 0 0]\n [5 6 7 8 9]]\n[[0 0 0 0 0]\n [0 0 0 0 0]]\n"
    }
   ],
   "source": [
    "t = a.copy()\n",
    "t[:,:] = 0.0\n",
    "print(a)\n",
    "print(t)"
   ]
  },
  {
   "cell_type": "code",
   "execution_count": null,
   "metadata": {},
   "outputs": [],
   "source": []
  },
  {
   "cell_type": "code",
   "execution_count": null,
   "metadata": {},
   "outputs": [],
   "source": []
  },
  {
   "cell_type": "code",
   "execution_count": null,
   "metadata": {},
   "outputs": [],
   "source": []
  },
  {
   "cell_type": "code",
   "execution_count": null,
   "metadata": {},
   "outputs": [],
   "source": []
  },
  {
   "cell_type": "code",
   "execution_count": null,
   "metadata": {},
   "outputs": [],
   "source": []
  },
  {
   "cell_type": "code",
   "execution_count": null,
   "metadata": {},
   "outputs": [],
   "source": []
  },
  {
   "cell_type": "code",
   "execution_count": null,
   "metadata": {},
   "outputs": [],
   "source": []
  },
  {
   "cell_type": "code",
   "execution_count": null,
   "metadata": {},
   "outputs": [],
   "source": []
  },
  {
   "cell_type": "code",
   "execution_count": null,
   "metadata": {},
   "outputs": [],
   "source": []
  }
 ],
 "metadata": {
  "kernelspec": {
   "display_name": "Python 3.8.3 64-bit ('base': conda)",
   "language": "python",
   "name": "python38364bitbasecondaef7431e93f7d4666a39794f4dcd39fc8"
  },
  "language_info": {
   "codemirror_mode": {
    "name": "ipython",
    "version": 3
   },
   "file_extension": ".py",
   "mimetype": "text/x-python",
   "name": "python",
   "nbconvert_exporter": "python",
   "pygments_lexer": "ipython3",
   "version": "3.8.3-final"
  }
 },
 "nbformat": 4,
 "nbformat_minor": 4
}